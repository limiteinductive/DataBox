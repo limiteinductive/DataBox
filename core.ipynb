{
 "cells": [
  {
   "cell_type": "code",
   "execution_count": null,
   "metadata": {},
   "outputs": [],
   "source": [
    "# default_exp core"
   ]
  },
  {
   "cell_type": "markdown",
   "metadata": {},
   "source": [
    "# Core\n",
    "\n",
    "> We define the `DataBox` class."
   ]
  },
  {
   "cell_type": "code",
   "execution_count": null,
   "metadata": {},
   "outputs": [],
   "source": [
    "#hide\n",
    "from nbdev.showdoc import *"
   ]
  },
  {
   "cell_type": "code",
   "execution_count": null,
   "metadata": {},
   "outputs": [],
   "source": [
    "#export\n",
    "from operator import add\n",
    "from functools import reduce\n",
    "\n",
    "from fastai.vision.all import *\n",
    "\n",
    "from lazybox.utils import *"
   ]
  },
  {
   "cell_type": "code",
   "execution_count": null,
   "metadata": {},
   "outputs": [],
   "source": [
    "#export\n",
    "class DataBox:\n",
    "    \n",
    "    def __init__(self, block=(), getter=None, **tfms):\n",
    "        \n",
    "        self.block = tuplify(block)\n",
    "        self.getter = getter\n",
    "        self.tfms = tfms \n",
    "\n",
    "        if not tfms: self.tfms = {}\n",
    "\n",
    "\n",
    "    def __repr__(self):\n",
    "\n",
    "        return f\"\"\"block: {self.block}, getter: {self.getter}, tfms: {self.tfms}\"\"\"\n",
    "\n",
    "\n",
    "    def __len__(self) -> int:\n",
    "        return len(tuplify(self.getter))\n",
    "    \n",
    "    def __add__(self, other):\n",
    "        blocks = self.block + other.block\n",
    "        getters = listify(self.getter) + listify(other.getter)\n",
    "        tfms = merge_tfms(self.tfms, other.tfms)\n",
    "        \n",
    "        return DataBox(blocks, getters, **tfms)\n",
    "    "
   ]
  },
  {
   "cell_type": "code",
   "execution_count": null,
   "metadata": {},
   "outputs": [],
   "source": [
    "\n",
    "#export\n",
    "\n",
    "def create_datablock(input_box, output_box, **kwargs):\n",
    "\n",
    "    ibox = reduce(add, map(simplify, listify(input_box)), DataBox())\n",
    "    obox = reduce(add, map(simplify, listify(output_box)), DataBox())\n",
    "\n",
    "    both_box = ibox + obox\n",
    "\n",
    "    return DataBlock(\n",
    "        n_inp=len(ibox),\n",
    "        blocks=both_box.block,\n",
    "        get_x=ibox.getter,\n",
    "        get_y=obox.getter,\n",
    "        get_items=partial(get_image_files, recurse=False),\n",
    "        **merge_tfms(both_box.tfms, kwargs)\n",
    "    )\n"
   ]
  },
  {
   "cell_type": "code",
   "execution_count": null,
   "metadata": {},
   "outputs": [
    {
     "data": {
      "text/plain": [
       "<fastai.data.block.DataBlock at 0x7f68a8ba4430>"
      ]
     },
     "execution_count": null,
     "metadata": {},
     "output_type": "execute_result"
    }
   ],
   "source": [
    "create_datablock(DataBox(), DataBox())"
   ]
  },
  {
   "cell_type": "code",
   "execution_count": null,
   "metadata": {},
   "outputs": [],
   "source": []
  }
 ],
 "metadata": {
  "kernelspec": {
   "display_name": "Python 3",
   "language": "python",
   "name": "python3"
  }
 },
 "nbformat": 4,
 "nbformat_minor": 2
}
