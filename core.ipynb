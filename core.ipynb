{
 "cells": [
  {
   "cell_type": "code",
   "execution_count": null,
   "metadata": {},
   "outputs": [],
   "source": [
    "# default_exp core"
   ]
  },
  {
   "cell_type": "markdown",
   "metadata": {},
   "source": [
    "# Core\n",
    "\n",
    "> We define the `DataBox` class."
   ]
  },
  {
   "cell_type": "code",
   "execution_count": null,
   "metadata": {},
   "outputs": [],
   "source": [
    "#hide\n",
    "from nbdev.showdoc import *"
   ]
  },
  {
   "cell_type": "code",
   "execution_count": null,
   "metadata": {},
   "outputs": [],
   "source": [
    "#export\n",
    "from operator import add\n",
    "from functools import reduce\n",
    "\n",
    "from fastai.vision.all import *\n",
    "\n",
    "from lazybox.utils import *"
   ]
  },
  {
   "cell_type": "code",
   "execution_count": null,
   "metadata": {},
   "outputs": [],
   "source": [
    "#export\n",
    "class DataBox:\n",
    "    \n",
    "    def __init__(self, block=(), getter=None, **tfms):\n",
    "        \n",
    "        self.block = tuplify(block)\n",
    "        self.getter = getter\n",
    "        self.tfms = tfms \n",
    "\n",
    "        if not tfms: self.tfms = {}\n",
    "\n",
    "\n",
    "    def __repr__(self):\n",
    "\n",
    "        return f\"\"\"block: {self.block}, getter: {self.getter}, tfms: {self.tfms}\"\"\"\n",
    "\n",
    "\n",
    "    def __len__(self) -> int:\n",
    "        return len(tuplify(self.getter))\n",
    "    \n",
    "    def __add__(self, other):\n",
    "        blocks = self.block + other.block\n",
    "        getters = listify(self.getter) + listify(other.getter)\n",
    "        tfms = merge_tfms(self.tfms, other.tfms)\n",
    "        \n",
    "        return DataBox(blocks, getters, **tfms)\n",
    "    "
   ]
  },
  {
   "cell_type": "code",
   "execution_count": null,
   "metadata": {},
   "outputs": [],
   "source": [
    "\n",
    "#export\n",
    "def create_datablock(input_box, output_box, **kwargs):\n",
    "\n",
    "    ibox = reduce(add, map(simplify, listify(input_box)), DataBox())\n",
    "    obox = reduce(add, map(simplify, listify(output_box)), DataBox())\n",
    "\n",
    "    both_box = ibox + obox\n",
    "\n",
    "    return DataBlock(\n",
    "        n_inp=len(ibox),\n",
    "        blocks=both_box.block,\n",
    "        get_x=ibox.getter,\n",
    "        get_y=obox.getter,\n",
    "        get_items=partial(get_image_files, recurse=False),\n",
    "        **merge_tfms(both_box.tfms, kwargs)\n",
    "    )\n"
   ]
  },
  {
   "cell_type": "code",
   "execution_count": null,
   "metadata": {},
   "outputs": [],
   "source": [
    "#export\n",
    "def set_seed(dls, x=0):\n",
    "    \"\"\"Set a random seed for all aspects of a Fastai Learner.\"\"\"\n",
    "    random.seed(x)\n",
    "    dls.rng.seed(x)\n",
    "    np.random.seed(x)\n",
    "    torch.manual_seed(x)\n",
    "    torch.backends.cudnn.deterministic = True\n",
    "    torch.backends.cudnn.benchmark = False\n",
    "    if torch.cuda.is_available(): torch.cuda.manual_seed_all(x)"
   ]
  },
  {
   "cell_type": "code",
   "execution_count": null,
   "metadata": {},
   "outputs": [],
   "source": []
  }
 ],
 "metadata": {
  "kernelspec": {
   "display_name": "Python 3",
   "language": "python",
   "name": "python3"
  }
 },
 "nbformat": 4,
 "nbformat_minor": 2
}
