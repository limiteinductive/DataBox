{
 "cells": [
  {
   "cell_type": "code",
   "execution_count": null,
   "metadata": {},
   "outputs": [],
   "source": [
    "# default_exp box"
   ]
  },
  {
   "cell_type": "markdown",
   "metadata": {},
   "source": [
    "# Boxes\n",
    "\n",
    "> In this module are implemented some generic `DataBox`.."
   ]
  },
  {
   "cell_type": "code",
   "execution_count": null,
   "metadata": {},
   "outputs": [],
   "source": [
    "#hide\n",
    "from nbdev.showdoc import *"
   ]
  },
  {
   "cell_type": "code",
   "execution_count": null,
   "metadata": {},
   "outputs": [],
   "source": [
    "#export\n",
    "from fastai.vision.all import *\n",
    "\n",
    "from lazybox.core import *\n",
    "from lazybox.utils import *"
   ]
  },
  {
   "cell_type": "code",
   "execution_count": null,
   "metadata": {},
   "outputs": [],
   "source": [
    "#export\n",
    "def image_box(size = 224, folder = '', aug_kwargs = None, **kwargs):\n",
    "    \"\"\"Make a DataBox from an ImageBlock.\"\"\"\n",
    "    if aug_kwargs is not None:\n",
    "        kwargs = merge_tfms(\n",
    "            {'batch_tfms': [*aug_transforms(size=size, **aug_kwargs)]}, kwargs\n",
    "        )\n",
    "\n",
    "    return DataBox(\n",
    "        ImageBlock,\n",
    "        lambda x: Path(x.parent) / folder / x.name,\n",
    "        merge_tfms(kwargs, {'item_tfms': Resize(size)}),\n",
    "    )"
   ]
  },
  {
   "cell_type": "markdown",
   "metadata": {},
   "source": [
    "\n",
    "    Parameters\n",
    "    ----------\n",
    "    size: int, default=224\n",
    "        determine to which size images should be resized.\n",
    "    folder: path-like, optional\n",
    "        select only images from `folder` path.\n",
    "    aug_kwargs: dict, default={}\n",
    "        add basic data augmentation to the training loop with the\n",
    "        albumentation library ; for more information look at\n",
    "        aug_transforms function documentation in fastai.\n",
    "    kwargs\n",
    "        additionnal keyword arguments for DataBlok interface."
   ]
  },
  {
   "cell_type": "code",
   "execution_count": null,
   "metadata": {},
   "outputs": [],
   "source": [
    "#export\n",
    "def cat_box():\n",
    "    \"\"\"Make a Category Box from the categorial array of the dataset.\"\"\"\n",
    "    return DataBox(MultiCategoryBlock, get_array('.cat'))"
   ]
  }
 ],
 "metadata": {
  "kernelspec": {
   "display_name": "Python 3",
   "language": "python",
   "name": "python3"
  }
 },
 "nbformat": 4,
 "nbformat_minor": 2
}
