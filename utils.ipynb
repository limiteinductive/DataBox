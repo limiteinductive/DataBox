{
 "cells": [
  {
   "cell_type": "code",
   "execution_count": null,
   "metadata": {},
   "outputs": [],
   "source": [
    "# default_exp utils"
   ]
  },
  {
   "cell_type": "markdown",
   "metadata": {},
   "source": [
    "# Utils\n",
    "\n",
    "> Collection of useful functions."
   ]
  },
  {
   "cell_type": "code",
   "execution_count": null,
   "metadata": {},
   "outputs": [],
   "source": [
    "#hide\n",
    "from nbdev.showdoc import *\n",
    "\n",
    "from typing import Iterable\n",
    "from plum import dispatch\n",
    "\n",
    "function = type(lambda: ())"
   ]
  },
  {
   "cell_type": "markdown",
   "metadata": {},
   "source": [
    "---\n",
    "Simplify   \n",
    "\n",
    "``` a simple function to do some simple tasks.```\n",
    "\n",
    "If you give an iterable with a single element, then you'll get just that element (denesting). Works\n",
    "also for function that has default arguments."
   ]
  },
  {
   "cell_type": "code",
   "execution_count": null,
   "metadata": {},
   "outputs": [],
   "source": [
    "#hide\n",
    "@dispatch\n",
    "def simplify(x): return x\n",
    "\n",
    "@dispatch\n",
    "def simplify(fn: function): \n",
    "    try:\n",
    "        return fn()\n",
    "    except TypeError:\n",
    "        return fn\n",
    "\n",
    "@dispatch\n",
    "def simplify(i: Iterable): return next(i.__iter__()) if len(i) == 1 else i"
   ]
  },
  {
   "cell_type": "code",
   "execution_count": null,
   "metadata": {},
   "outputs": [],
   "source": []
  }
 ],
 "metadata": {
  "kernelspec": {
   "display_name": "Python 3",
   "language": "python",
   "name": "python3"
  }
 },
 "nbformat": 4,
 "nbformat_minor": 2
}
