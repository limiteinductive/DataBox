{
 "cells": [
  {
   "cell_type": "code",
   "execution_count": null,
   "metadata": {},
   "outputs": [],
   "source": [
    "# default_exp utils"
   ]
  },
  {
   "cell_type": "markdown",
   "metadata": {},
   "source": [
    "# Utils\n",
    "\n",
    "> Collection of useful functions."
   ]
  },
  {
   "cell_type": "code",
   "execution_count": null,
   "metadata": {},
   "outputs": [],
   "source": [
    "#hide\n",
    "from nbdev.showdoc import *"
   ]
  },
  {
   "cell_type": "code",
   "execution_count": null,
   "metadata": {},
   "outputs": [],
   "source": [
    "#export\n",
    "import os\n",
    "import numpy as np\n",
    "\n",
    "from typing import Iterable, TypeVar, Generator\n",
    "from plum import dispatch\n",
    "from pathlib import Path\n",
    "from functools import reduce\n",
    "\n",
    "function = type(lambda: ())\n",
    "T = TypeVar('T')"
   ]
  },
  {
   "cell_type": "markdown",
   "metadata": {},
   "source": [
    "## Basics"
   ]
  },
  {
   "cell_type": "code",
   "execution_count": null,
   "metadata": {},
   "outputs": [],
   "source": [
    "#export\n",
    "def identity(x: T) -> T:\n",
    "    \"\"\"Indentity function.\"\"\"\n",
    "\n",
    "    return x"
   ]
  },
  {
   "cell_type": "code",
   "execution_count": null,
   "metadata": {},
   "outputs": [],
   "source": [
    "#export\n",
    "def simplify(x): \n",
    "    \"\"\"Return an object of an iterable if it is lonely.\"\"\"\n",
    "    \n",
    "    @dispatch\n",
    "    def _simplify(x): return x\n",
    "\n",
    "    @dispatch\n",
    "    def _simplify(fn: function): \n",
    "        try:\n",
    "            return fn()\n",
    "        except TypeError:\n",
    "            return fn\n",
    "\n",
    "    @dispatch\n",
    "    def _simplify(i: Iterable): return next(i.__iter__()) if len(i) == 1 else i\n",
    "\n",
    "    return _simplify(x)"
   ]
  },
  {
   "cell_type": "markdown",
   "metadata": {},
   "source": [
    "The simplify function is used to de-nest an iterable with a single element in it, as for instance [1], while leaving everything else constant. It can also exchange a function for its default argument."
   ]
  },
  {
   "cell_type": "code",
   "execution_count": null,
   "metadata": {},
   "outputs": [
    {
     "data": {
      "text/plain": [
       "1"
      ]
     },
     "execution_count": null,
     "metadata": {},
     "output_type": "execute_result"
    }
   ],
   "source": [
    "simplify({1})"
   ]
  },
  {
   "cell_type": "code",
   "execution_count": null,
   "metadata": {},
   "outputs": [
    {
     "data": {
      "text/plain": [
       "'omegalul'"
      ]
     },
     "execution_count": null,
     "metadata": {},
     "output_type": "execute_result"
    }
   ],
   "source": [
    "simplify(simplify)(lambda x='lul': 2*x)"
   ]
  },
  {
   "cell_type": "code",
   "execution_count": null,
   "metadata": {},
   "outputs": [],
   "source": [
    "#export\n",
    "def listify(x, *args):\n",
    "    \"\"\"Convert `x` to a `list`.\"\"\"\n",
    "    if args:\n",
    "        x = (x,) + args\n",
    "\n",
    "    if x is None:\n",
    "        result = []\n",
    "    elif isinstance(x, list): result = x\n",
    "    elif isinstance(x, str) or hasattr(x, \"__array__\") or hasattr(x, \"iloc\"):\n",
    "        result = [x]\n",
    "    elif isinstance(x, (Iterable, Generator)):\n",
    "        result = list(x)\n",
    "    else:\n",
    "        result = [x]\n",
    "        \n",
    "    return result"
   ]
  },
  {
   "cell_type": "markdown",
   "metadata": {},
   "source": [
    "What's very convenient is that it leaves lists invariant (it doen't nest them into a new list)."
   ]
  },
  {
   "cell_type": "code",
   "execution_count": null,
   "metadata": {},
   "outputs": [
    {
     "data": {
      "text/plain": [
       "[1, 2]"
      ]
     },
     "execution_count": null,
     "metadata": {},
     "output_type": "execute_result"
    }
   ],
   "source": [
    "listify([1, 2])"
   ]
  },
  {
   "cell_type": "code",
   "execution_count": null,
   "metadata": {},
   "outputs": [
    {
     "data": {
      "text/plain": [
       "[1, 2, 3]"
      ]
     },
     "execution_count": null,
     "metadata": {},
     "output_type": "execute_result"
    }
   ],
   "source": [
    "listify(1, 2, 3)"
   ]
  },
  {
   "cell_type": "code",
   "execution_count": null,
   "metadata": {},
   "outputs": [],
   "source": [
    "#export\n",
    "def setify(x, *args):\n",
    "    \"\"\"Convert `x` to a `set`.\"\"\"\n",
    "\n",
    "    return set(listify(x, *args))"
   ]
  },
  {
   "cell_type": "code",
   "execution_count": null,
   "metadata": {},
   "outputs": [
    {
     "data": {
      "text/plain": [
       "{1, 2, 3}"
      ]
     },
     "execution_count": null,
     "metadata": {},
     "output_type": "execute_result"
    }
   ],
   "source": [
    "setify(1, 2, 3)"
   ]
  },
  {
   "cell_type": "code",
   "execution_count": null,
   "metadata": {},
   "outputs": [],
   "source": [
    "#export\n",
    "def tuplify(x, *args):\n",
    "    \"\"\"Convert `x` to a `tuple`.\"\"\"\n",
    "\n",
    "    return tuple(listify(x, *args))"
   ]
  },
  {
   "cell_type": "code",
   "execution_count": null,
   "metadata": {},
   "outputs": [
    {
     "data": {
      "text/plain": [
       "(1,)"
      ]
     },
     "execution_count": null,
     "metadata": {},
     "output_type": "execute_result"
    }
   ],
   "source": [
    "tuplify(1)"
   ]
  },
  {
   "cell_type": "code",
   "execution_count": null,
   "metadata": {},
   "outputs": [],
   "source": [
    "#export\n",
    "def merge_tfms(*tfms):\n",
    "    \"\"\"Merge two dictionnaries by stacking common key into list.\"\"\"\n",
    "\n",
    "    def _merge_tfms(tf1, tf2):\n",
    "        return {\n",
    "            k: simplify(listify(setify(listify(tf1.get(k)) + listify(tf2.get(k)))))\n",
    "            for k in {**tf1, **tf2}\n",
    "        }\n",
    "    \n",
    "    return reduce(_merge_tfms, tfms, dict())"
   ]
  },
  {
   "cell_type": "code",
   "execution_count": null,
   "metadata": {},
   "outputs": [
    {
     "data": {
      "text/plain": [
       "{'animals': ['cats', 'dog'], 'colors': ['red', 'blue'], 'OS': 'i use arch btw'}"
      ]
     },
     "execution_count": null,
     "metadata": {},
     "output_type": "execute_result"
    }
   ],
   "source": [
    "\n",
    "merge_tfms(\n",
    "    {'animals': ['cats', 'dog'], 'colors': 'blue'}, \n",
    "    {'animals': 'cats', 'colors': 'red', 'OS': 'i use arch btw'}\n",
    ")"
   ]
  },
  {
   "cell_type": "code",
   "execution_count": null,
   "metadata": {},
   "outputs": [],
   "source": [
    "#export\n",
    "def compose(*functions):\n",
    "    \"\"\"Compose an arbitrary number of functions.\"\"\"\n",
    "\n",
    "    def _compose(fn1, fn2):\n",
    "        return lambda x: fn1(fn2(x))\n",
    "\n",
    "    return reduce(_compose, functions, identity)"
   ]
  },
  {
   "cell_type": "code",
   "execution_count": null,
   "metadata": {},
   "outputs": [],
   "source": [
    "#export\n",
    "def pipe(*functions):\n",
    "    \"\"\"Pipe an arbitrary number of functions.\"\"\"\n",
    "\n",
    "    return compose(*functions[::-1])"
   ]
  },
  {
   "cell_type": "code",
   "execution_count": null,
   "metadata": {},
   "outputs": [],
   "source": [
    "#export\n",
    "def flow(data, *functions):\n",
    "    \"\"\"Flow `data` through a list of functions.\"\"\"\n",
    "\n",
    "    return pipe(*functions)(data)"
   ]
  },
  {
   "cell_type": "markdown",
   "metadata": {},
   "source": [
    "## File manipulation helper"
   ]
  },
  {
   "cell_type": "code",
   "execution_count": null,
   "metadata": {},
   "outputs": [],
   "source": [
    "#export\n",
    "def get_files(path, extensions=None, recurse=False, folders=None, followlinks=True):\n",
    "    \"\"\"Get all those file names.\"\"\"\n",
    "    path = Path(path)\n",
    "    folders = listify(folders)\n",
    "    extensions = setify(extensions)\n",
    "    extensions = {e.lower() for e in extensions}\n",
    "\n",
    "    def simple_getter(p, fs, extensions=None):\n",
    "        p = Path(p)\n",
    "        res = [\n",
    "            p / f\n",
    "            for f in fs\n",
    "            if not f.startswith(\".\")\n",
    "            and ((not extensions) or f'.{f.split(\".\")[-1].lower()}' in extensions)\n",
    "        ]\n",
    "        return res\n",
    "\n",
    "    if recurse:\n",
    "        result = []\n",
    "        for i, (p, d, f) in enumerate(os.walk(path, followlinks=followlinks)):\n",
    "            if len(folders) != 0 and i == 0:\n",
    "                d[:] = [o for o in d if o in folders]\n",
    "            else:\n",
    "                d[:] = [o for o in d if not o.startswith(\".\")]\n",
    "            if len(folders) != 0 and i == 0 and \".\" not in folders:\n",
    "                continue\n",
    "            result += simple_getter(p, f, extensions)\n",
    "    else:\n",
    "        f = [o.name for o in os.scandir(path) if o.is_file()]\n",
    "        result = simple_getter(path, f, extensions)\n",
    "    return list(map(str, result))"
   ]
  },
  {
   "cell_type": "code",
   "execution_count": null,
   "metadata": {},
   "outputs": [],
   "source": [
    "def get_array(suffix):\n",
    "    \"\"\"Return a getter that loads a numpy array with given suffix.\"\"\"\n",
    "    return lambda x: np.load(x.with_suffix(f'{suffix}.npy'), allow_pickle=True)"
   ]
  },
  {
   "cell_type": "code",
   "execution_count": null,
   "metadata": {},
   "outputs": [],
   "source": [
    "def save_array(array, fname, suffix):\n",
    "    \"\"\"Save an array with the given name and suffix.\"\"\"\n",
    "    if not suffix.startwith(\".\"):\n",
    "        suffix = \".\" + suffix\n",
    "\n",
    "    fname = Path(fname)\n",
    "\n",
    "    return np.save(array, fname.with_suffix(suffix))"
   ]
  },
  {
   "cell_type": "code",
   "execution_count": null,
   "metadata": {},
   "outputs": [],
   "source": [
    "#export\n",
    "def save_dataset(data):\n",
    "    return 'NotImplementedError'"
   ]
  },
  {
   "cell_type": "code",
   "execution_count": null,
   "metadata": {},
   "outputs": [],
   "source": []
  }
 ],
 "metadata": {
  "kernelspec": {
   "display_name": "Python 3",
   "language": "python",
   "name": "python3"
  }
 },
 "nbformat": 4,
 "nbformat_minor": 2
}
