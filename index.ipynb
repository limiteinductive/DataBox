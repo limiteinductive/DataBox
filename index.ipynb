{
 "cells": [
  {
   "cell_type": "code",
   "execution_count": null,
   "metadata": {},
   "outputs": [],
   "source": [
    "#hide"
   ]
  },
  {
   "cell_type": "markdown",
   "metadata": {},
   "source": [
    "# LazyBox\n",
    "\n",
    "> A user friendly API to jump-start your Deep Learning project based on Fastai. "
   ]
  },
  {
   "cell_type": "markdown",
   "metadata": {},
   "source": [
    "The library is still in early development, but a lot of new features will be added in future\n",
    "\n",
    "    [ ] Support for non-image Datasets\n",
    "    [ ] Import NN architecture from the timm library\n",
    "    [ ] Make it better"
   ]
  },
  {
   "cell_type": "markdown",
   "metadata": {},
   "source": [
    "## Install"
   ]
  },
  {
   "cell_type": "markdown",
   "metadata": {},
   "source": [
    "`pip install lazybox`"
   ]
  },
  {
   "cell_type": "markdown",
   "metadata": {},
   "source": [
    "## How to use"
   ]
  },
  {
   "cell_type": "markdown",
   "metadata": {},
   "source": [
    "Let's go through a typical workflow for a DeepLearning task. Let's take a Dataset on Kaggle: https://www.kaggle.com/tongpython/cat-and-dog which are images of cat and dogs so we can train a classifier to predict the species"
   ]
  },
  {
   "cell_type": "code",
   "execution_count": null,
   "metadata": {},
   "outputs": [],
   "source": [
    "# we lazy folks only use wild imports\n",
    "from lazybox.all import *\n",
    "\n",
    "\n",
    "dls = create_dataloaders(\n",
    "    input_box=image_box,\n",
    "    output_box=bbox_box,\n",
    "    path='cat_dataset'\n",
    ")\n"
   ]
  },
  {
   "cell_type": "code",
   "execution_count": null,
   "metadata": {},
   "outputs": [],
   "source": []
  }
 ],
 "metadata": {
  "kernelspec": {
   "display_name": "Python 3",
   "language": "python",
   "name": "python3"
  }
 },
 "nbformat": 4,
 "nbformat_minor": 2
}
